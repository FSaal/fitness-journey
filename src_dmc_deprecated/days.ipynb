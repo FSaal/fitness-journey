{
 "cells": [
  {
   "cell_type": "code",
   "execution_count": null,
   "metadata": {},
   "outputs": [],
   "source": [
    "from preprocessing import PreprocessClass\n",
    "import pandas as pd\n",
    "\n",
    "progression_path = r\"C:\\personal_git\\fitness-journey\\data\\2024-01-21 18 02 06.csv\"\n",
    "gymbook_path = r\"C:\\personal_git\\fitness-journey\\data\\GymBook-Logs-2023-04-08.csv\"\n",
    "weight_myfitnesspal_path = r\"C:\\personal_git\\fitness-journey\\data\\weight.csv\"\n",
    "weight_eufy_path = r\"C:\\personal_git\\fitness-journey\\data\\weight_Felix_1694877519.csv\"\n",
    "weight_googlefit_path = r\"C:\\personal_git\\fitness-journey\\data\\derived_com.google.weight_com.google.android.g.json\"\n",
    "preprocess = PreprocessClass(\n",
    "    gymbook_path,\n",
    "    progression_path,\n",
    "    weight_myfitnesspal_path,\n",
    "    weight_eufy_path,\n",
    "    weight_googlefit_path,\n",
    ")\n",
    "df, df_weight = preprocess.main()\n",
    "\n",
    "import plotly.express as px"
   ]
  },
  {
   "cell_type": "code",
   "execution_count": null,
   "metadata": {},
   "outputs": [],
   "source": [
    "df.head(1)"
   ]
  },
  {
   "cell_type": "code",
   "execution_count": null,
   "metadata": {},
   "outputs": [],
   "source": [
    "# Group the dataframe by day and get the workout name for each day (is the same for all exercises of the day)\n",
    "df_grouped = df.groupby(df.index.date).first()[\"Workout Name\"]\n",
    "df_grouped[:19]\n",
    "\n",
    "\n",
    "for workout_day in df_grouped:\n",
    "    day_counter = 0\n",
    "    same_training = set()\n",
    "    same_training.add(workout_day)\n",
    "    if "
   ]
  },
  {
   "cell_type": "code",
   "execution_count": null,
   "metadata": {},
   "outputs": [],
   "source": [
    "days = df_grouped.unique()\n",
    "for day in days:\n",
    "    print(day)"
   ]
  },
  {
   "cell_type": "code",
   "execution_count": null,
   "metadata": {},
   "outputs": [],
   "source": [
    "workout_day_mapping = {\n",
    "    \"PPL 4 Days\": {\"days\":[\"Legs\", \"Push\", \"Pull\", \"Fullbody\"],\"time_constraint\":None},\n",
    "    \"Hypertrophy Fundamentals\": {\"days\":[\"Upper Body 1\", \"Lowerbody 1\", \"Upper Body 2\", \"Lower Body 2\"],\"time_constraint\":None},\n",
    "    # \"PHUL\": {\"days\":[\"Lower Power\", \"Upper Power\", \"Lower Hypertrophy\", \"Upper Hypertrophy\"],\"time_constraint\":None},\n",
    "    \"PHUL\": {\"days\":[\"Lower Power\", \"Upper Power\", \"Lower Hyperthrophy\", \"Upper Hypertrophy\"],\"time_constraint\":None},\n",
    "    \"531 BBB\": {\"days\":[\"SQUAT\", \"OHP\", \"DEADLIFT\", \"BENCH\"],\"time_constraint\":(\"2022-01-01\", \"2022-12-31\")},\n",
    "    \"531\": {\"days\":[\"Squat\", \"OHP\", \"Deadlift\", \"Bench\"],\"time_constraint\":None},\n",
    "    \"PHAT\":{\"days\":[\"Upper Body Power\", \"Lower Body Power\", \"Bach & Shoulders HT\", \"Lower Body HT\", \"Chest & Arms Ht\"],\"time_constraint\":None},\n",
    "    \"nSuns\":{\"days\":[\"Chest, Shoulders, Abs, ...\", \"Legs, Back, Calves\", \"Chest Triceps, Back\", \"Legs, Back\"],\"time_constraint\":None},\n",
    "    \"Unknown 1\": {\"days\":[\"Deadlift Day\", \"Squat Day\", \"Bench Day\", \"Benchpress Day (niedriges Gewicht Bankdrücken wegen Schulter)\"],\"time_constraint\":None},\n",
    "    \"Triple\": {\"days\":[\"Squat\", \"Dead\", \"Front squat\"],\"time_constraint\":(\"2022-01-24\", \"2022-03-26\")},\n",
    "}\n",
    "# Lower Hypertrophy was written wrong"
   ]
  },
  {
   "cell_type": "code",
   "execution_count": null,
   "metadata": {},
   "outputs": [],
   "source": [
    "df.index.isin(pd.date_range(\"2022-01-24\", \"2022-03-26\"))"
   ]
  },
  {
   "cell_type": "code",
   "execution_count": null,
   "metadata": {},
   "outputs": [],
   "source": [
    "df_grouped = df.groupby(df.index.date).first()[\"Workout Name\"]\n",
    "px.scatter(df_grouped)"
   ]
  },
  {
   "cell_type": "code",
   "execution_count": null,
   "metadata": {},
   "outputs": [],
   "source": [
    "df[\"Program Name\"] = \"\"\n",
    "\n",
    "for program, workout_days_info in workout_day_mapping.items():\n",
    "    workout_days = workout_days_info[\"days\"]\n",
    "    time_constraint = workout_days_info[\"time_constraint\"]\n",
    "    if time_constraint is not None:\n",
    "        time_condition = (df.index >= time_constraint[0]) & (df.index <= time_constraint[1])\n",
    "        df.loc[df[\"Workout Name\"].isin(workout_days) & time_condition, \"Program Name\"] = program\n",
    "    else:\n",
    "        df.loc[df[\"Workout Name\"].isin(workout_days), \"Program Name\"] = program\n",
    "    \n",
    "fig = px.scatter(df,x=\"Time\", y=\"Program Name\",color=\"Workout Name\") \n",
    "fig.show()"
   ]
  },
  {
   "cell_type": "code",
   "execution_count": null,
   "metadata": {},
   "outputs": [],
   "source": [
    "df.loc[(df[\"Workout Name\"].isin([\"Front squat\"])) & (df.index.isin(pd.date_range(\"2022-01-24\", \"2022-03-26\"))), \"Program Name\"]"
   ]
  }
 ],
 "metadata": {
  "kernelspec": {
   "display_name": ".venv",
   "language": "python",
   "name": "python3"
  },
  "language_info": {
   "codemirror_mode": {
    "name": "ipython",
    "version": 3
   },
   "file_extension": ".py",
   "mimetype": "text/x-python",
   "name": "python",
   "nbconvert_exporter": "python",
   "pygments_lexer": "ipython3",
   "version": "3.11.0"
  }
 },
 "nbformat": 4,
 "nbformat_minor": 2
}
